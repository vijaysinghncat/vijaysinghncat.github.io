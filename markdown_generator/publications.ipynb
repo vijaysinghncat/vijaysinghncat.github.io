{
 "cells": [
  {
   "cell_type": "markdown",
   "metadata": {},
   "source": [
    "# Publications markdown generator for academicpages\n",
    "\n",
    "Takes a TSV of publications with metadata and converts them for use with [academicpages.github.io](academicpages.github.io). This is an interactive Jupyter notebook ([see more info here](http://jupyter-notebook-beginner-guide.readthedocs.io/en/latest/what_is_jupyter.html)). The core python code is also in `publications.py`. Run either from the `markdown_generator` folder after replacing `publications.tsv` with one containing your data.\n",
    "\n",
    "TODO: Make this work with BibTex and other databases of citations, rather than Stuart's non-standard TSV format and citation style.\n"
   ]
  },
  {
   "cell_type": "markdown",
   "metadata": {},
   "source": [
    "## Data format\n",
    "\n",
    "The TSV needs to have the following columns: pub_date, title, venue, excerpt, citation, site_url, and paper_url, with a header at the top. \n",
    "\n",
    "- `excerpt` and `paper_url` can be blank, but the others must have values. \n",
    "- `pub_date` must be formatted as YYYY-MM-DD.\n",
    "- `url_slug` will be the descriptive part of the .md file and the permalink URL for the page about the paper. The .md file will be `YYYY-MM-DD-[url_slug].md` and the permalink will be `https://[yourdomain]/publications/YYYY-MM-DD-[url_slug]`\n",
    "\n",
    "This is how the raw file looks (it doesn't look pretty, use a spreadsheet or other program to edit and create)."
   ]
  },
  {
   "cell_type": "code",
   "execution_count": 8,
   "metadata": {},
   "outputs": [
    {
     "name": "stdout",
     "output_type": "stream",
     "text": [
      "pub_date\ttitle\tvenue\texcerpt\tcitation\turl_slug\tpaper_url\r",
      "\r\n",
      "4/17/12\tOrdinary Percolation with Discontinuous Transitions \tNature Communications\tThis paper gives an analytical proof of the existence of discontinuous percolation transition. \t\"Boettcher, S., Singh, V., & Ziff, R. M. (2012). Ordinary percolation with discontinuous transitions. Nature Communications, 3(1), 1-5.\"\tpaper-title-number-1\thttps://doi: 10.1038/ncomms1774 (2012)\r",
      "\r\n",
      "7/18/14\tScaling of Clusters near Discontinuous Percolation Transitions in Hyperbolic Networks \tPhysical Review E\tThis paper discusses percolation on hierarchical networks.\t\"Singh, V., & Boettcher, S. (2014). Scaling of clusters near discontinuous percolation transitions in hyperbolic networks. Physical Review E, 90(1), 012117.\"\tpaper-title-number-2\thttps://doi.org/10.1103/PhysRevE.90.012117\r",
      "\r\n",
      "10/17/14\tDirector Field Model of the Primary Visual Cortex for Contour Detection\tPLOS ONE \tThis paper develops a continumm model of the primary visual cortex for contour detection. \t\"Singh, V., Tchernookov, M., Butterfield, R., & Nemenman, I. (2014). Director field model of the primary visual cortex for contour detection. PloS One, 9(10), e108991.\"\tpaper-title-number-3\thttps://doi.org/10.1371/journal.pone.0108991\r",
      "\r\n",
      "11/13/14\tFrom Explosive to Infinite-Order Transitions on a Hyperbolic Network. \tPhysical Review E\tThis paper studies Potts model on hierarchical networks.\t\"Singh, V., Brunson, C. T., & Boettcher, S. (2014). From explosive to infinite-order transitions on a hyperbolic network. Physical Review E, 90(5), 052119.\"\tpaper-title-number-4\thttps://doi.org/10.1103/PhysRevE.90.052119\r",
      "\r\n",
      "8/31/16\tEffects of Receptor Correlations on Molecular Information Transmission. \tPhysical Review E\tThis paper shows that negative correlations does not increase information.\t\"Singh, V., Tchernookov, M., & Nemenman, I. (2016). Effects of receptor correlations on molecular information transmission. Physical Review E, 94(2), 022425.\"\tpaper-title-number-5\thttps://doi.org/10.1103/PhysRevE.94.022425\r",
      "\r\n",
      "4/14/17\tSimple Biochemical Networks allow Accurate Sensing of Multiple Ligands with a Single Receptor\tPLOS Comp Bio\tThis paper shows how one receptor can detect more than one ligand specie.\t\"Singh, V., & Nemenman, I. (2017). Simple biochemical networks allow accurate sensing of multiple ligands with a single receptor. PLoS Computational Biology, 13(4), e1005490.\"\tpaper-title-number-6\thttps://doi.org/10.1371/journal.pcbi.1005490\r",
      "\r\n",
      "12/1/18\tComputational Luminance Constancy from Naturalistic Images \tJournal of Vision\tThis paper studies lightness constancy using a computaional mdoel.\t\"Singh, V., Cottaris, N. P., Heasly, B. S., Brainard, D. H., & Burge, J. (2018). Computational luminance constancy from naturalistic images. Journal of Vision, 18(13), 1-19.\"\tpaper-title-number-7\thttps://doi.org/10.1167/18.13.19\r",
      "\r\n",
      "5/7/19\tCompetitive binding predicts nonlinear responses of olfactory receptors to complex mixtures\tProceedings of the National Academy of Sciences\tThis paper shows that olfacotry receptor reponse to mixtures can be modeled using a biophysical model.\t\"Singh, V., Murphy, N. R., Balasubramanian, V., & Mainland, J. D. (2019). Competitive binding predicts nonlinear responses of olfactory receptors to complex mixtures. Proceedings of the National Academy of Sciences, 116(19), 9598-9603.\"\tpaper-title-number-8\thttps://doi.org/10.1073/pnas.1813230116\r",
      "\r\n",
      "1/13/20\tUniversal Properties of Concentration Sensing in Ligand-Receptor Networks\tPhysical Review Letter\tThis paper shows universal properties of ligand receptor networks.\t\"Singh, V., & Nemenman, I. (2020). Universal properties of concentration sensing in large ligand-receptor networks. Physical Review Letters, 124(2), 028101.\"\tpaper-title-number-9\thttps://doi.org/10.1103/PhysRevLett.124.028101"
     ]
    }
   ],
   "source": [
    "!cat publications.tsv"
   ]
  },
  {
   "cell_type": "markdown",
   "metadata": {},
   "source": [
    "## Import pandas\n",
    "\n",
    "We are using the very handy pandas library for dataframes."
   ]
  },
  {
   "cell_type": "code",
   "execution_count": 2,
   "metadata": {},
   "outputs": [],
   "source": [
    "import pandas as pd"
   ]
  },
  {
   "cell_type": "markdown",
   "metadata": {},
   "source": [
    "## Import TSV\n",
    "\n",
    "Pandas makes this easy with the read_csv function. We are using a TSV, so we specify the separator as a tab, or `\\t`.\n",
    "\n",
    "I found it important to put this data in a tab-separated values format, because there are a lot of commas in this kind of data and comma-separated values can get messed up. However, you can modify the import statement, as pandas also has read_excel(), read_json(), and others."
   ]
  },
  {
   "cell_type": "code",
   "execution_count": 9,
   "metadata": {},
   "outputs": [
    {
     "data": {
      "text/html": [
       "<div>\n",
       "<style scoped>\n",
       "    .dataframe tbody tr th:only-of-type {\n",
       "        vertical-align: middle;\n",
       "    }\n",
       "\n",
       "    .dataframe tbody tr th {\n",
       "        vertical-align: top;\n",
       "    }\n",
       "\n",
       "    .dataframe thead th {\n",
       "        text-align: right;\n",
       "    }\n",
       "</style>\n",
       "<table border=\"1\" class=\"dataframe\">\n",
       "  <thead>\n",
       "    <tr style=\"text-align: right;\">\n",
       "      <th></th>\n",
       "      <th>pub_date</th>\n",
       "      <th>title</th>\n",
       "      <th>venue</th>\n",
       "      <th>excerpt</th>\n",
       "      <th>citation</th>\n",
       "      <th>url_slug</th>\n",
       "      <th>paper_url</th>\n",
       "    </tr>\n",
       "  </thead>\n",
       "  <tbody>\n",
       "    <tr>\n",
       "      <th>0</th>\n",
       "      <td>4/17/12</td>\n",
       "      <td>Ordinary Percolation with Discontinuous Transi...</td>\n",
       "      <td>Nature Communications</td>\n",
       "      <td>This paper gives an analytical proof of the ex...</td>\n",
       "      <td>Boettcher, S., Singh, V., &amp; Ziff, R. M. (2012)...</td>\n",
       "      <td>paper-title-number-1</td>\n",
       "      <td>https://doi: 10.1038/ncomms1774 (2012)</td>\n",
       "    </tr>\n",
       "    <tr>\n",
       "      <th>1</th>\n",
       "      <td>7/18/14</td>\n",
       "      <td>Scaling of Clusters near Discontinuous Percola...</td>\n",
       "      <td>Physical Review E</td>\n",
       "      <td>This paper discusses percolation on hierarchic...</td>\n",
       "      <td>Singh, V., &amp; Boettcher, S. (2014). Scaling of ...</td>\n",
       "      <td>paper-title-number-2</td>\n",
       "      <td>https://doi.org/10.1103/PhysRevE.90.012117</td>\n",
       "    </tr>\n",
       "    <tr>\n",
       "      <th>2</th>\n",
       "      <td>10/17/14</td>\n",
       "      <td>Director Field Model of the Primary Visual Cor...</td>\n",
       "      <td>PLOS ONE</td>\n",
       "      <td>This paper develops a continumm model of the p...</td>\n",
       "      <td>Singh, V., Tchernookov, M., Butterfield, R., &amp;...</td>\n",
       "      <td>paper-title-number-3</td>\n",
       "      <td>https://doi.org/10.1371/journal.pone.0108991</td>\n",
       "    </tr>\n",
       "    <tr>\n",
       "      <th>3</th>\n",
       "      <td>11/13/14</td>\n",
       "      <td>From Explosive to Infinite-Order Transitions o...</td>\n",
       "      <td>Physical Review E</td>\n",
       "      <td>This paper studies Potts model on hierarchical...</td>\n",
       "      <td>Singh, V., Brunson, C. T., &amp; Boettcher, S. (20...</td>\n",
       "      <td>paper-title-number-4</td>\n",
       "      <td>https://doi.org/10.1103/PhysRevE.90.052119</td>\n",
       "    </tr>\n",
       "    <tr>\n",
       "      <th>4</th>\n",
       "      <td>8/31/16</td>\n",
       "      <td>Effects of Receptor Correlations on Molecular ...</td>\n",
       "      <td>Physical Review E</td>\n",
       "      <td>This paper shows that negative correlations do...</td>\n",
       "      <td>Singh, V., Tchernookov, M., &amp; Nemenman, I. (20...</td>\n",
       "      <td>paper-title-number-5</td>\n",
       "      <td>https://doi.org/10.1103/PhysRevE.94.022425</td>\n",
       "    </tr>\n",
       "    <tr>\n",
       "      <th>5</th>\n",
       "      <td>4/14/17</td>\n",
       "      <td>Simple Biochemical Networks allow Accurate Sen...</td>\n",
       "      <td>PLOS Comp Bio</td>\n",
       "      <td>This paper shows how one receptor can detect m...</td>\n",
       "      <td>Singh, V., &amp; Nemenman, I. (2017). Simple bioch...</td>\n",
       "      <td>paper-title-number-6</td>\n",
       "      <td>https://doi.org/10.1371/journal.pcbi.1005490</td>\n",
       "    </tr>\n",
       "    <tr>\n",
       "      <th>6</th>\n",
       "      <td>12/1/18</td>\n",
       "      <td>Computational Luminance Constancy from Natural...</td>\n",
       "      <td>Journal of Vision</td>\n",
       "      <td>This paper studies lightness constancy using a...</td>\n",
       "      <td>Singh, V., Cottaris, N. P., Heasly, B. S., Bra...</td>\n",
       "      <td>paper-title-number-7</td>\n",
       "      <td>https://doi.org/10.1167/18.13.19</td>\n",
       "    </tr>\n",
       "    <tr>\n",
       "      <th>7</th>\n",
       "      <td>5/7/19</td>\n",
       "      <td>Competitive binding predicts nonlinear respons...</td>\n",
       "      <td>Proceedings of the National Academy of Sciences</td>\n",
       "      <td>This paper shows that olfacotry receptor repon...</td>\n",
       "      <td>Singh, V., Murphy, N. R., Balasubramanian, V.,...</td>\n",
       "      <td>paper-title-number-8</td>\n",
       "      <td>https://doi.org/10.1073/pnas.1813230116</td>\n",
       "    </tr>\n",
       "    <tr>\n",
       "      <th>8</th>\n",
       "      <td>1/13/20</td>\n",
       "      <td>Universal Properties of Concentration Sensing ...</td>\n",
       "      <td>Physical Review Letter</td>\n",
       "      <td>This paper shows universal properties of ligan...</td>\n",
       "      <td>Singh, V., &amp; Nemenman, I. (2020). Universal pr...</td>\n",
       "      <td>paper-title-number-9</td>\n",
       "      <td>https://doi.org/10.1103/PhysRevLett.124.028101</td>\n",
       "    </tr>\n",
       "  </tbody>\n",
       "</table>\n",
       "</div>"
      ],
      "text/plain": [
       "   pub_date                                              title  \\\n",
       "0   4/17/12  Ordinary Percolation with Discontinuous Transi...   \n",
       "1   7/18/14  Scaling of Clusters near Discontinuous Percola...   \n",
       "2  10/17/14  Director Field Model of the Primary Visual Cor...   \n",
       "3  11/13/14  From Explosive to Infinite-Order Transitions o...   \n",
       "4   8/31/16  Effects of Receptor Correlations on Molecular ...   \n",
       "5   4/14/17  Simple Biochemical Networks allow Accurate Sen...   \n",
       "6   12/1/18  Computational Luminance Constancy from Natural...   \n",
       "7    5/7/19  Competitive binding predicts nonlinear respons...   \n",
       "8   1/13/20  Universal Properties of Concentration Sensing ...   \n",
       "\n",
       "                                             venue  \\\n",
       "0                            Nature Communications   \n",
       "1                                Physical Review E   \n",
       "2                                        PLOS ONE    \n",
       "3                                Physical Review E   \n",
       "4                                Physical Review E   \n",
       "5                                    PLOS Comp Bio   \n",
       "6                                Journal of Vision   \n",
       "7  Proceedings of the National Academy of Sciences   \n",
       "8                           Physical Review Letter   \n",
       "\n",
       "                                             excerpt  \\\n",
       "0  This paper gives an analytical proof of the ex...   \n",
       "1  This paper discusses percolation on hierarchic...   \n",
       "2  This paper develops a continumm model of the p...   \n",
       "3  This paper studies Potts model on hierarchical...   \n",
       "4  This paper shows that negative correlations do...   \n",
       "5  This paper shows how one receptor can detect m...   \n",
       "6  This paper studies lightness constancy using a...   \n",
       "7  This paper shows that olfacotry receptor repon...   \n",
       "8  This paper shows universal properties of ligan...   \n",
       "\n",
       "                                            citation              url_slug  \\\n",
       "0  Boettcher, S., Singh, V., & Ziff, R. M. (2012)...  paper-title-number-1   \n",
       "1  Singh, V., & Boettcher, S. (2014). Scaling of ...  paper-title-number-2   \n",
       "2  Singh, V., Tchernookov, M., Butterfield, R., &...  paper-title-number-3   \n",
       "3  Singh, V., Brunson, C. T., & Boettcher, S. (20...  paper-title-number-4   \n",
       "4  Singh, V., Tchernookov, M., & Nemenman, I. (20...  paper-title-number-5   \n",
       "5  Singh, V., & Nemenman, I. (2017). Simple bioch...  paper-title-number-6   \n",
       "6  Singh, V., Cottaris, N. P., Heasly, B. S., Bra...  paper-title-number-7   \n",
       "7  Singh, V., Murphy, N. R., Balasubramanian, V.,...  paper-title-number-8   \n",
       "8  Singh, V., & Nemenman, I. (2020). Universal pr...  paper-title-number-9   \n",
       "\n",
       "                                        paper_url  \n",
       "0          https://doi: 10.1038/ncomms1774 (2012)  \n",
       "1      https://doi.org/10.1103/PhysRevE.90.012117  \n",
       "2    https://doi.org/10.1371/journal.pone.0108991  \n",
       "3      https://doi.org/10.1103/PhysRevE.90.052119  \n",
       "4      https://doi.org/10.1103/PhysRevE.94.022425  \n",
       "5    https://doi.org/10.1371/journal.pcbi.1005490  \n",
       "6                https://doi.org/10.1167/18.13.19  \n",
       "7         https://doi.org/10.1073/pnas.1813230116  \n",
       "8  https://doi.org/10.1103/PhysRevLett.124.028101  "
      ]
     },
     "execution_count": 9,
     "metadata": {},
     "output_type": "execute_result"
    }
   ],
   "source": [
    "publications = pd.read_csv(\"publications.tsv\", sep=\"\\t\", header=0)\n",
    "publications\n"
   ]
  },
  {
   "cell_type": "markdown",
   "metadata": {},
   "source": [
    "## Escape special characters\n",
    "\n",
    "YAML is very picky about how it takes a valid string, so we are replacing single and double quotes (and ampersands) with their HTML encoded equivilents. This makes them look not so readable in raw format, but they are parsed and rendered nicely."
   ]
  },
  {
   "cell_type": "code",
   "execution_count": 10,
   "metadata": {},
   "outputs": [],
   "source": [
    "html_escape_table = {\n",
    "    \"&\": \"&amp;\",\n",
    "    '\"': \"&quot;\",\n",
    "    \"'\": \"&apos;\"\n",
    "    }\n",
    "\n",
    "def html_escape(text):\n",
    "    \"\"\"Produce entities within text.\"\"\"\n",
    "    return \"\".join(html_escape_table.get(c,c) for c in text)"
   ]
  },
  {
   "cell_type": "markdown",
   "metadata": {},
   "source": [
    "## Creating the markdown files\n",
    "\n",
    "This is where the heavy lifting is done. This loops through all the rows in the TSV dataframe, then starts to concatentate a big string (```md```) that contains the markdown for each type. It does the YAML metadata first, then does the description for the individual page."
   ]
  },
  {
   "cell_type": "code",
   "execution_count": 13,
   "metadata": {},
   "outputs": [],
   "source": [
    "import os\n",
    "for row, item in publications.iterrows():\n",
    "    \n",
    "    md_filename = str(item.pub_date) + \"-\" + item.url_slug + \".md\"\n",
    "    html_filename = str(item.pub_date) + \"-\" + item.url_slug\n",
    "    year = item.pub_date[:4]\n",
    "    \n",
    "    ## YAML variables\n",
    "    \n",
    "    md = \"---\\ntitle: \\\"\"   + item.title + '\"\\n'\n",
    "    \n",
    "    md += \"\"\"collection: publications\"\"\"\n",
    "    \n",
    "    md += \"\"\"\\npermalink: /publication/\"\"\" + html_filename\n",
    "    \n",
    "    if len(str(item.excerpt)) > 5:\n",
    "        md += \"\\nexcerpt: '\" + html_escape(item.excerpt) + \"'\"\n",
    "    \n",
    "    md += \"\\ndate: \" + str(item.pub_date) \n",
    "    \n",
    "    md += \"\\nvenue: '\" + html_escape(item.venue) + \"'\"\n",
    "    \n",
    "    if len(str(item.paper_url)) > 5:\n",
    "        md += \"\\npaperurl: '\" + item.paper_url + \"'\"\n",
    "    \n",
    "    md += \"\\ncitation: '\" + html_escape(item.citation) + \"'\"\n",
    "    \n",
    "    md += \"\\n---\"\n",
    "    \n",
    "    ## Markdown description for individual page\n",
    "        \n",
    "    if len(str(item.excerpt)) > 5:\n",
    "        md += \"\\n\" + html_escape(item.excerpt) + \"\\n\"\n",
    "    \n",
    "    if len(str(item.paper_url)) > 5:\n",
    "        md += \"\\n[Download paper here](\" + item.paper_url + \")\\n\" \n",
    "        \n",
    "    md += \"\\nRecommended citation: \" + item.citation\n",
    "    \n",
    "    md_filename = os.path.basename(md_filename)\n",
    "       \n",
    "    with open(\"../_publications/\" + md_filename, 'w') as f:\n",
    "        f.write(md)"
   ]
  },
  {
   "cell_type": "markdown",
   "metadata": {},
   "source": [
    "These files are in the publications directory, one directory below where we're working from."
   ]
  },
  {
   "cell_type": "code",
   "execution_count": 14,
   "metadata": {},
   "outputs": [
    {
     "name": "stdout",
     "output_type": "stream",
     "text": [
      "12-paper-title-number-1.md 17-paper-title-number-6.md\r\n",
      "14-paper-title-number-2.md 18-paper-title-number-7.md\r\n",
      "14-paper-title-number-3.md 19-paper-title-number-8.md\r\n",
      "14-paper-title-number-4.md 20-paper-title-number-9.md\r\n",
      "16-paper-title-number-5.md\r\n"
     ]
    }
   ],
   "source": [
    "!ls ../_publications/"
   ]
  },
  {
   "cell_type": "code",
   "execution_count": 16,
   "metadata": {},
   "outputs": [
    {
     "name": "stdout",
     "output_type": "stream",
     "text": [
      "---\r\n",
      "title: \"Ordinary Percolation with Discontinuous Transitions \"\r\n",
      "collection: publications\r\n",
      "permalink: /publication/4/17/12-paper-title-number-1\r\n",
      "excerpt: 'This paper gives an analytical proof of the existence of discontinuous percolation transition. '\r\n",
      "date: 4/17/12\r\n",
      "venue: 'Nature Communications'\r\n",
      "paperurl: 'https://doi: 10.1038/ncomms1774 (2012)'\r\n",
      "citation: 'Boettcher, S., Singh, V., &amp; Ziff, R. M. (2012). Ordinary percolation with discontinuous transitions. Nature Communications, 3(1), 1-5.'\r\n",
      "---\r\n",
      "This paper gives an analytical proof of the existence of discontinuous percolation transition. \r\n",
      "\r\n",
      "[Download paper here](https://doi: 10.1038/ncomms1774 (2012))\r\n",
      "\r\n",
      "Recommended citation: Boettcher, S., Singh, V., & Ziff, R. M. (2012). Ordinary percolation with discontinuous transitions. Nature Communications, 3(1), 1-5."
     ]
    }
   ],
   "source": [
    "!cat ../_publications/12-paper-title-number-1.md"
   ]
  },
  {
   "cell_type": "code",
   "execution_count": null,
   "metadata": {
    "collapsed": true
   },
   "outputs": [],
   "source": []
  }
 ],
 "metadata": {
  "kernelspec": {
   "display_name": "Python 3",
   "language": "python",
   "name": "python3"
  },
  "language_info": {
   "codemirror_mode": {
    "name": "ipython",
    "version": 3
   },
   "file_extension": ".py",
   "mimetype": "text/x-python",
   "name": "python",
   "nbconvert_exporter": "python",
   "pygments_lexer": "ipython3",
   "version": "3.7.6"
  }
 },
 "nbformat": 4,
 "nbformat_minor": 1
}
